{
 "cells": [
  {
   "cell_type": "markdown",
   "metadata": {},
   "source": [
    "# Rater Reliability Notebook\n",
    "This notebook will require edits to work, but has been left in the repo in case you'd like to adjust it."
   ]
  },
  {
   "cell_type": "code",
   "execution_count": null,
   "metadata": {},
   "outputs": [],
   "source": [
    "import pandas as pd\n",
    "import numpy as np\n",
    "from collections import defaultdict\n",
    "import operator"
   ]
  },
  {
   "cell_type": "code",
   "execution_count": null,
   "metadata": {},
   "outputs": [],
   "source": [
    "#Fill in Participant Number Here\n",
    "participant_number = '1079' \n",
    "df = pd.read_csv(\"summer_2019/1079/output/responses.csv\")"
   ]
  },
  {
   "cell_type": "code",
   "execution_count": null,
   "metadata": {},
   "outputs": [],
   "source": [
    "df['count'] = df.groupby(['file_name']).file_name.transform('count')"
   ]
  },
  {
   "cell_type": "code",
   "execution_count": null,
   "metadata": {},
   "outputs": [],
   "source": [
    "df_an1 = df[df['count'] == 1]\n",
    "val_counts = df['count'].value_counts()\n",
    "for k, v in val_counts.items():\n",
    "    val_counts[k] = int(v)/int(k)\n",
    "    print(int(k), \": \", val_counts[k], \"clips\")"
   ]
  },
  {
   "cell_type": "code",
   "execution_count": null,
   "metadata": {},
   "outputs": [],
   "source": [
    "df_an1['Language'].value_counts()"
   ]
  },
  {
   "cell_type": "code",
   "execution_count": null,
   "metadata": {},
   "outputs": [],
   "source": [
    "unsure = df_an1[df_an1['Language'] == 'Unsure']"
   ]
  },
  {
   "cell_type": "code",
   "execution_count": null,
   "metadata": {},
   "outputs": [],
   "source": [
    "languages = set(['Spanish', 'Quechua', 'Mixed'])\n",
    "lang_ratio = df_an1[df_an1['Language'].isin(languages)]"
   ]
  },
  {
   "cell_type": "markdown",
   "metadata": {},
   "source": [
    "### Clips Annotated Twice"
   ]
  },
  {
   "cell_type": "code",
   "execution_count": null,
   "metadata": {},
   "outputs": [],
   "source": [
    "df_an2 = df[df['count'] == 2]"
   ]
  },
  {
   "cell_type": "code",
   "execution_count": null,
   "metadata": {},
   "outputs": [],
   "source": [
    "grouped = df_an2.groupby('file_name')"
   ]
  },
  {
   "cell_type": "code",
   "execution_count": null,
   "metadata": {},
   "outputs": [],
   "source": [
    "intrarater_dict = defaultdict(list)\n",
    "interrater_dict = defaultdict(list)\n",
    "for n, group in grouped:\n",
    "    annotators = list(group['annotator'])\n",
    "    group = pd.DataFrame(group).reset_index()\n",
    "    langs = list(group['Language'])\n",
    "    if annotators[0] == annotators[1]:  #SAME\n",
    "        annotator = annotators[0]\n",
    "        if langs[0] == langs[1]:\n",
    "            intrarater_dict[annotator].append(1)\n",
    "            if langs[0] == 'Unsure':\n",
    "                unsure = unsure.append(group[0:1], ignore_index=False, verify_integrity=False, sort=None)\n",
    "            else:\n",
    "                lang_ratio = lang_ratio.append(group[0:1])\n",
    "        else:\n",
    "            if any(elem in languages for elem in langs):\n",
    "                intrarater_dict[annotator].append(0)\n",
    "                if 'Unsure' in langs:\n",
    "                    unsure = unsure.append(group[0:2])\n",
    "    else: #Different\n",
    "        if annotators[0] != annotators[1] and langs[0] == langs[1]:\n",
    "            interrater_dict[annotators[0]].append(1)\n",
    "            interrater_dict[annotators[1]].append(1)\n",
    "            lang_ratio = lang_ratio.append(group[0:1])\n",
    "        else:\n",
    "            if annotators[0] != annotators[1] and any(elem in languages for elem in langs):\n",
    "                interrater_dict[annotators[0]].append(0)\n",
    "                interrater_dict[annotators[1]].append(0)\n",
    "                if any(elem == 'Unsure' for elem in langs):\n",
    "                    unsure = unsure.append(group[0:2])\n"
   ]
  },
  {
   "cell_type": "markdown",
   "metadata": {},
   "source": [
    "## Clips Annotated Thrice+"
   ]
  },
  {
   "cell_type": "code",
   "execution_count": null,
   "metadata": {},
   "outputs": [],
   "source": [
    "valCount = {'a':2, 'b':1}\n",
    "annToLangs = [('k', 'a'), ('l', 'b'), ('l', 'a')]\n",
    "anns = ['k', 'l', 'l']\n",
    "majorityLang, majorityCount = max(valCount.items(), key=operator.itemgetter(1))\n",
    "allMajorityLangs = [key for key in valCount.keys() if valCount[key]==majorityCount]\n",
    "d1 = defaultdict(list)\n",
    "for ann, lang in annToLangs:\n",
    "    if lang == majorityLang:\n",
    "           d1[ann].append(1)\n",
    "    else:\n",
    "           d1[ann].append(0)"
   ]
  },
  {
   "cell_type": "code",
   "execution_count": null,
   "metadata": {},
   "outputs": [],
   "source": [
    "df_an3 = df[df['count'] >= 3]\n",
    "grouped3 = df_an3.groupby('file_name')\n",
    "for n, group in grouped3:\n",
    "    annotators = list(group['annotator'])\n",
    "    langs = list(group['Language'])\n",
    "    annToLangs = zip(annotators, langs)\n",
    "    uniqueAnns = set(annotators)\n",
    "    valCount = group['Language'].value_counts()\n",
    "    majorityLang, majorityCount = max(valCount.items(), key=operator.itemgetter(1))\n",
    "    allMajorityLangs = [key for key in valCount.keys() if valCount[key]==majorityCount]\n",
    "    if len(allMajorityLangs) == 1 and majorityLang in languages:\n",
    "        lang_ratio = lang_ratio.append(group[0:1])\n",
    "        if len(uniqueAnns) == 1:\n",
    "            intrarater_dict[uniqueAnns[0]].append(1)\n",
    "        else:\n",
    "            for ann, lang in annToLangs:\n",
    "                if lang == majorityLang:\n",
    "                    interrater_dict[ann].append(1)\n",
    "                else:\n",
    "                    interrater_dict[ann].append(0)\n"
   ]
  },
  {
   "cell_type": "markdown",
   "metadata": {},
   "source": [
    "## Interrater Ratio"
   ]
  },
  {
   "cell_type": "code",
   "execution_count": null,
   "metadata": {},
   "outputs": [],
   "source": [
    "interrater_df = pd.DataFrame(columns=['Annotator', 'InterRatio'])\n",
    "for ann in interrater_dict:\n",
    "    inter_ratio = sum(interrater_dict[ann])/len(interrater_dict[ann])\n",
    "    print(ann, \"Ratio: \" , inter_ratio)\n",
    "    print(\"Number of clips: \", len(interrater_dict[ann]))\n",
    "    interrater_df = interrater_df.append({'Annotator': ann, 'IntraRatio':inter_ratio}, ignore_index=True)"
   ]
  },
  {
   "cell_type": "markdown",
   "metadata": {},
   "source": [
    "## Intrarater Ratio"
   ]
  },
  {
   "cell_type": "code",
   "execution_count": null,
   "metadata": {},
   "outputs": [],
   "source": [
    "intrarater_df = pd.DataFrame(columns=['Annotator', 'IntraRatio'])\n",
    "for ann in intrarater_dict:\n",
    "    intra_ratio = sum(intrarater_dict[ann])/len(intrarater_dict[ann])\n",
    "    print(ann, \"Ratio: \" , intra_ratio)\n",
    "    print(\"Number of clips: \", len(intrarater_dict[ann]))\n",
    "    intrarater_df = intrarater_df.append({'Annotator': ann, 'IntraRatio':intra_ratio}, ignore_index=True)"
   ]
  },
  {
   "cell_type": "markdown",
   "metadata": {},
   "source": [
    "## Convert to CSV"
   ]
  },
  {
   "cell_type": "code",
   "execution_count": null,
   "metadata": {},
   "outputs": [],
   "source": [
    "interrater_df.to_csv(participant_number + '_interrater.csv')\n",
    "intrarater_df.to_csv(participant_number  + '_intrarater.csv')\n",
    "lang_ratio.to_csv(participant_number + '_bilingualratio.csv')\n",
    "unsure.to_csv(participant_number  + '_relisten.csv')"
   ]
  }
 ],
 "metadata": {
  "kernelspec": {
   "display_name": "Python 3",
   "language": "python",
   "name": "python3"
  },
  "language_info": {
   "codemirror_mode": {
    "name": "ipython",
    "version": 3
   },
   "file_extension": ".py",
   "mimetype": "text/x-python",
   "name": "python",
   "nbconvert_exporter": "python",
   "pygments_lexer": "ipython3",
   "version": "3.8.1"
  }
 },
 "nbformat": 4,
 "nbformat_minor": 1
}
